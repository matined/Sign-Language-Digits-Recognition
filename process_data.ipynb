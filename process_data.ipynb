{
 "cells": [
  {
   "cell_type": "markdown",
   "metadata": {},
   "source": [
    "### Imports\n"
   ]
  },
  {
   "cell_type": "code",
   "execution_count": 2,
   "metadata": {},
   "outputs": [],
   "source": [
    "import numpy as np\n",
    "from PIL import Image\n",
    "import glob\n",
    "import os\n",
    "import pickle\n"
   ]
  },
  {
   "cell_type": "code",
   "execution_count": 3,
   "metadata": {},
   "outputs": [],
   "source": [
    "NUMBER_OF_CLASSES = 10\n"
   ]
  },
  {
   "cell_type": "markdown",
   "metadata": {},
   "source": [
    "## Load a data from jpg to numpy arrays\n"
   ]
  },
  {
   "cell_type": "code",
   "execution_count": 4,
   "metadata": {},
   "outputs": [],
   "source": [
    "def load_photos(set: str) -> tuple:\n",
    "    \"\"\"\n",
    "    Loads photos from train, test or valid set.\n",
    "\n",
    "    Parameters\n",
    "    ----------\n",
    "    set : string\n",
    "        A set that you want to load from: 'train', 'test' or 'valid'\n",
    "\n",
    "    Returns\n",
    "    -------\n",
    "    X : np.ndarray (number_of_photos, 30000)\n",
    "        Preprocessed photos\n",
    "\n",
    "    y : nd.ndarray (number_of_photos, )\n",
    "        \"True\" labels\n",
    "    \"\"\"\n",
    "    photos = [] # stores photos\n",
    "    number_of_photos = [0 for i in range(NUMBER_OF_CLASSES)] # stores the number of photos of each class\n",
    "\n",
    "    for number in range(NUMBER_OF_CLASSES):\n",
    "        for filename in glob.glob(f'/home/matined/Desktop/Sign-Language-Digits-Recognition/data/{set}/A{number}/*.JPG'): \n",
    "            image = np.array(Image.open(filename).resize((100, 100)))\n",
    "            photos.append(image)\n",
    "            number_of_photos[number] += 1\n",
    "    X = np.array(photos)    \n",
    "\n",
    "    labels = []\n",
    "    for i in range(NUMBER_OF_CLASSES):\n",
    "        for j in range(number_of_photos[i]):\n",
    "            labels.append(i)\n",
    "    y = np.array(labels)\n",
    "\n",
    "    # shuffle examples\n",
    "    shuffler = np.random.permutation(X.shape[0])\n",
    "    X = X[shuffler]\n",
    "    y = y[shuffler]\n",
    "\n",
    "    return X, y\n",
    "    "
   ]
  },
  {
   "cell_type": "markdown",
   "metadata": {},
   "source": [
    "### Save all preprocessed data into data dictionary for later usage"
   ]
  },
  {
   "cell_type": "code",
   "execution_count": 5,
   "metadata": {},
   "outputs": [],
   "source": [
    "X_train, y_train= load_photos(set='train')\n",
    "X_test, y_test = load_photos(set='test')\n",
    "X_valid, y_valid = load_photos(set='valid')\n"
   ]
  },
  {
   "cell_type": "code",
   "execution_count": 6,
   "metadata": {},
   "outputs": [],
   "source": [
    "data = {\n",
    "    'X_train':  X_train,\n",
    "    'y_train':  y_train,\n",
    "    'X_test':   X_test,\n",
    "    'y_test':   y_test,\n",
    "    'X_valid':  X_valid,\n",
    "    'y_valid':  y_valid\n",
    "}\n"
   ]
  },
  {
   "cell_type": "markdown",
   "metadata": {},
   "source": [
    "### Dump data into file"
   ]
  },
  {
   "cell_type": "code",
   "execution_count": 8,
   "metadata": {},
   "outputs": [],
   "source": [
    "pickle.dump(data, open(os.path.abspath('data/data.pkl'), 'wb'))\n"
   ]
  },
  {
   "cell_type": "markdown",
   "metadata": {},
   "source": [
    "### Funtion for loading the data"
   ]
  },
  {
   "cell_type": "code",
   "execution_count": 9,
   "metadata": {},
   "outputs": [],
   "source": [
    "def get_data() -> dict:\n",
    "    \"\"\"\n",
    "    Loads a dictionary of data.\n",
    "\n",
    "    Returns\n",
    "    -------\n",
    "    data : dict\n",
    "        Dictionary containing:\n",
    "            X_train, y_train, X_test, y_test, X_valid, y_valid\n",
    "    \"\"\"\n",
    "    data = pickle.load(open(os.path.abspath('../data/data.pkl'), 'rb'))\n",
    "    return data\n",
    "    "
   ]
  },
  {
   "cell_type": "code",
   "execution_count": null,
   "metadata": {},
   "outputs": [],
   "source": []
  }
 ],
 "metadata": {
  "interpreter": {
   "hash": "08fe9a84316eac9769d7a3f037646143ff09d8a48fdb2e1a2a32cf855c887973"
  },
  "kernelspec": {
   "display_name": "Python 3.9.7 64-bit ('sign_lang': conda)",
   "language": "python",
   "name": "python3"
  },
  "language_info": {
   "codemirror_mode": {
    "name": "ipython",
    "version": 3
   },
   "file_extension": ".py",
   "mimetype": "text/x-python",
   "name": "python",
   "nbconvert_exporter": "python",
   "pygments_lexer": "ipython3",
   "version": "3.9.7"
  },
  "orig_nbformat": 4
 },
 "nbformat": 4,
 "nbformat_minor": 2
}
